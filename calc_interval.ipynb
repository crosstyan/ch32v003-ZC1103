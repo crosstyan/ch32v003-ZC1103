{
 "cells": [
  {
   "cell_type": "code",
   "execution_count": 13,
   "metadata": {},
   "outputs": [
    {
     "data": {
      "text/plain": [
       "'62.5Hz'"
      ]
     },
     "metadata": {},
     "output_type": "display_data"
    }
   ],
   "source": [
    "# fixed frequency (128K Low Resolution Clock)\n",
    "f = 128e3\n",
    "\n",
    "available_prescaler = [\n",
    "    1,\n",
    "    2,\n",
    "    4,\n",
    "    8,\n",
    "    16,\n",
    "    32,\n",
    "    64,\n",
    "    128,\n",
    "    256,\n",
    "    512,\n",
    "    1024,\n",
    "    2048,\n",
    "    4096,\n",
    "    10240,\n",
    "    61440,\n",
    "]\n",
    "div = 2048\n",
    "assert div in available_prescaler, \"f must be in {}\".format(available_prescaler)\n",
    "f_dived = f/div\n",
    "display(\"{}Hz\".format(f_dived))\n"
   ]
  },
  {
   "cell_type": "code",
   "execution_count": 14,
   "metadata": {},
   "outputs": [
    {
     "data": {
      "text/plain": [
       "'1.008s'"
      ]
     },
     "metadata": {},
     "output_type": "display_data"
    }
   ],
   "source": [
    "time_interval = 1/f_dived\n",
    "compared_times = 63\n",
    "assert compared_times < 2**6 # 6 bits AWUWR\n",
    "blink_interval = time_interval*compared_times\n",
    "display(\"{}s\".format(blink_interval))"
   ]
  },
  {
   "cell_type": "code",
   "execution_count": 15,
   "metadata": {},
   "outputs": [
    {
     "data": {
      "text/plain": [
       "'Best div: 2048, Best compared time: 62, Best Blink Interval: 0.992s'"
      ]
     },
     "metadata": {},
     "output_type": "display_data"
    }
   ],
   "source": [
    "# written by copilot\n",
    "f = 128000 # fixed frequency\n",
    "available_prescaler = [1, 2, 4, 8, 16, 32, 64, 128, 256, 512, 1024, 2048, 4096, 8192, 16384, 32768] \n",
    "blink_interval = 1 # Unit: second\n",
    "best_div = None\n",
    "best_compared_time = None\n",
    "best_blink_interval = None\n",
    "for div in available_prescaler:\n",
    "    f_dived = f/div # calculate the frequency after prescaling\n",
    "    time_interval = 1/f_dived # calculate the time interval\n",
    "    compared_times = int(blink_interval/time_interval) # calculate the compared times\n",
    "    if compared_times >= 2**6: # check if compared times is within the limit\n",
    "        continue\n",
    "    calculated_blink_interval = time_interval*compared_times # calculate the blink interval\n",
    "    if best_blink_interval is None or abs(calculated_blink_interval - blink_interval) < abs(best_blink_interval - blink_interval):\n",
    "        # update the best values if the calculated blink interval is closer to the desired blink interval\n",
    "        best_div = div\n",
    "        best_compared_time = compared_times\n",
    "        best_blink_interval = calculated_blink_interval\n",
    "display(\"Best div: {}, Best compared time: {}, Best Blink Interval: {}s\".format(best_div, best_compared_time, best_blink_interval))"
   ]
  }
 ],
 "metadata": {
  "kernelspec": {
   "display_name": "Python 3",
   "language": "python",
   "name": "python3"
  },
  "language_info": {
   "codemirror_mode": {
    "name": "ipython",
    "version": 3
   },
   "file_extension": ".py",
   "mimetype": "text/x-python",
   "name": "python",
   "nbconvert_exporter": "python",
   "pygments_lexer": "ipython3",
   "version": "3.10.12"
  },
  "orig_nbformat": 4
 },
 "nbformat": 4,
 "nbformat_minor": 2
}
